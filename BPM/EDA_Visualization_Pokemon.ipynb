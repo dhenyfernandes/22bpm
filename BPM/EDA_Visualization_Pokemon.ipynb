{
 "cells": [
  {
   "cell_type": "markdown",
   "metadata": {},
   "source": [
    "# Pandas e Visualização de Dados\n",
    "\n",
    "Uma importante ferramenta no processo exploratório de dados é a visualização. Vamos analisar o dataset pokemon, tratar os dados, realizar algumas operações e, depois, vamos obter insights a partir da visualização de dados. "
   ]
  },
  {
   "cell_type": "code",
   "execution_count": 2,
   "metadata": {},
   "outputs": [],
   "source": [
    "import pandas as pd\n",
    "import matplotlib.pyplot as plt"
   ]
  },
  {
   "cell_type": "code",
   "execution_count": null,
   "metadata": {},
   "outputs": [],
   "source": [
    "# Faça a leitura do arquivo e armazene o DataFrame numa variável chamada poke\n",
    "poke = \n",
    "poke.head()"
   ]
  },
  {
   "cell_type": "code",
   "execution_count": null,
   "metadata": {},
   "outputs": [],
   "source": [
    "# imprima a quantidade de linhas e colunas presentes no DataFrame\n",
    "print()\n",
    "print('------------------------------------------\\n')\n",
    "\n",
    "# verifique e imprima as colunas que contenham valores faltantes\n",
    "print()\n",
    "print('------------------------------------------\\n')\n",
    "\n",
    "# retorne as principais estatísticas das colunas numéricas\n",
    "poke."
   ]
  },
  {
   "cell_type": "markdown",
   "metadata": {},
   "source": [
    "Percebemos que a coluna Type 2 possui alguns valores faltantes. Não temos informações sobre como preencher essa coluna da maneira correta. Assim, em todo linha que houver um valor faltando na colune Type 2, esse valor será preenchido com o valor correspondente da coluna Type 1. \n",
    "\n",
    "Analise o método fillna e preencha os valores faltantes de acordo com o enunciado acima. \n",
    "\n",
    "Documentação da função: [link](https://pandas.pydata.org/pandas-docs/stable/reference/api/pandas.DataFrame.fillna.html)\n",
    "\n",
    "Exemplo de uso: [link](https://stackoverflow.com/questions/13295735/how-can-i-replace-all-the-nan-values-with-zeros-in-a-column-of-a-pandas-datafram)"
   ]
  },
  {
   "cell_type": "code",
   "execution_count": null,
   "metadata": {},
   "outputs": [],
   "source": [
    "# resposta"
   ]
  },
  {
   "cell_type": "markdown",
   "metadata": {},
   "source": [
    "Para selecionarmos colunas específicas de um DataFrame podemos fazer df[df['coluna1','coluna2']]. Crie um novo DataFrame a partir de poke que contenha apenas os pokemons que são lendários"
   ]
  },
  {
   "cell_type": "code",
   "execution_count": null,
   "metadata": {},
   "outputs": [],
   "source": [
    "# resposta\n",
    "lendarios = "
   ]
  },
  {
   "cell_type": "markdown",
   "metadata": {},
   "source": [
    "apply() é um poderoso método de vetorização, ou seja, permite a aplicação de uma função nos elementos de uma colunas de um DataFrame sem a necessidade de escrever laços de repetição. \n",
    "\n",
    "Veja alguns exemplos:"
   ]
  },
  {
   "cell_type": "code",
   "execution_count": null,
   "metadata": {},
   "outputs": [],
   "source": [
    "df = pd.DataFrame([[4, 9]] * 3, columns=['A', 'B'])\n",
    "df"
   ]
  },
  {
   "cell_type": "code",
   "execution_count": null,
   "metadata": {},
   "outputs": [],
   "source": [
    "import numpy as np\n",
    "# tirando a raiz quadrada de todos os elementos de df\n",
    "df.apply(np.sqrt)"
   ]
  },
  {
   "cell_type": "code",
   "execution_count": null,
   "metadata": {},
   "outputs": [],
   "source": [
    "# somando os elementos a partir das colunas\n",
    "df.apply(np.sum, axis=0)"
   ]
  },
  {
   "cell_type": "code",
   "execution_count": null,
   "metadata": {},
   "outputs": [],
   "source": [
    "# somando os elementos a partir das linhas\n",
    "df.apply(np.sum, axis=1)"
   ]
  },
  {
   "cell_type": "markdown",
   "metadata": {},
   "source": [
    "Escreva uma função que passe para minúscula todos os elementos da coluna Name"
   ]
  },
  {
   "cell_type": "code",
   "execution_count": null,
   "metadata": {},
   "outputs": [],
   "source": [
    "# resposta"
   ]
  },
  {
   "cell_type": "markdown",
   "metadata": {},
   "source": [
    "Agrupamento é uma ferramenta muito útil para fazer descobertas em nosso DataFrame. Preciso saber a representatividade de cada tipo (coluna Type 1) de pokemon e essa informação precisa ser retornada em ordem decrescente\n",
    "\n",
    "Você vai precisar dos seguintes métodos:\n",
    "> groupby [link](https://pandas.pydata.org/pandas-docs/stable/reference/api/pandas.DataFrame.groupby.html)\n",
    "\n",
    "> size [link](https://pandas.pydata.org/pandas-docs/stable/reference/api/pandas.DataFrame.size.html)\n",
    "\n",
    "> sort_values [link](https://pandas.pydata.org/pandas-docs/stable/reference/api/pandas.DataFrame.sort_values.html)"
   ]
  },
  {
   "cell_type": "markdown",
   "metadata": {},
   "source": [
    "# Visualização de Dados"
   ]
  },
  {
   "cell_type": "code",
   "execution_count": null,
   "metadata": {},
   "outputs": [],
   "source": []
  },
  {
   "cell_type": "code",
   "execution_count": null,
   "metadata": {},
   "outputs": [],
   "source": []
  },
  {
   "cell_type": "code",
   "execution_count": null,
   "metadata": {},
   "outputs": [],
   "source": []
  }
 ],
 "metadata": {
  "kernelspec": {
   "display_name": "Python 3",
   "language": "python",
   "name": "python3"
  },
  "language_info": {
   "codemirror_mode": {
    "name": "ipython",
    "version": 3
   },
   "file_extension": ".py",
   "mimetype": "text/x-python",
   "name": "python",
   "nbconvert_exporter": "python",
   "pygments_lexer": "ipython3",
   "version": "3.7.5"
  }
 },
 "nbformat": 4,
 "nbformat_minor": 4
}
