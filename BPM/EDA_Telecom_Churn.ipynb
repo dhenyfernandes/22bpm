{
 "cells": [
  {
   "cell_type": "markdown",
   "metadata": {},
   "source": [
    "# End-to-end Exploratory Data Analisys"
   ]
  },
  {
   "cell_type": "markdown",
   "metadata": {},
   "source": [
    "Neste notebook, vamos analisar um conjunto de dados sobre a taxa de rotatividade dos clientes das operadoras de telecomunicações. Vamos rever alguns métodos e atributos estudados bem como aprender novos. Além disso, vamos plotar gráficos para entender de maneira visual como nossos dados se comportam e que informações podemos extrair deles."
   ]
  },
  {
   "cell_type": "code",
   "execution_count": null,
   "metadata": {},
   "outputs": [],
   "source": [
    "# importanto as bibliotecas necessárias\n",
    "import numpy as np\n",
    "import pandas as pd\n",
    "import matplotlib.pyplot as plt"
   ]
  },
  {
   "cell_type": "code",
   "execution_count": null,
   "metadata": {},
   "outputs": [],
   "source": [
    "# Fazendo a leitura dos dados\n",
    "df = pd.read_csv('bases/telecom_churn.csv')\n",
    "df.head()"
   ]
  },
  {
   "cell_type": "markdown",
   "metadata": {},
   "source": [
    "Cada linha desse dataset é uma instância (amostra) e cada coluna é uma feature (característica). Um algoritmo de machine learning poderia ser aplicado aqui para, a partir desse conjunto de features, prever a variável churn (variável meta). "
   ]
  },
  {
   "cell_type": "code",
   "execution_count": null,
   "metadata": {},
   "outputs": [],
   "source": [
    "# Vamos analisar a dimensionalidade e o tipo de cada característica presente no dataset\n",
    "print(df.shape)\n",
    "print('-------------------------')\n",
    "print(df.info())"
   ]
  },
  {
   "cell_type": "markdown",
   "metadata": {},
   "source": [
    "Podemos perceber que não existem valores faltantes no dataset. Entretando, ao verificar o tipo de dado de cada feature, observamos que Churn é uma coluna booleana. Entretanto, valores booleanos não são aceitos como valores de entrada para algoritmos de machine learning. Vamos tratar isso:"
   ]
  },
  {
   "cell_type": "code",
   "execution_count": null,
   "metadata": {},
   "outputs": [],
   "source": [
    "df['Churn'] = df['Churn'].astype('int64')"
   ]
  },
  {
   "cell_type": "markdown",
   "metadata": {},
   "source": [
    "Agora podemos executar o método describe para analisar as estatísticas básicas do dataset"
   ]
  },
  {
   "cell_type": "code",
   "execution_count": null,
   "metadata": {},
   "outputs": [],
   "source": [
    "df.describe()"
   ]
  },
  {
   "cell_type": "markdown",
   "metadata": {},
   "source": [
    "Podemos analisar algumas estatísticas de features não numéricas tornando isso explicito ao chamar o método describe "
   ]
  },
  {
   "cell_type": "code",
   "execution_count": null,
   "metadata": {},
   "outputs": [],
   "source": [
    "df.describe(include=['object', 'bool'])"
   ]
  },
  {
   "cell_type": "markdown",
   "metadata": {},
   "source": [
    "Ainda podemos usar value_counts() para analisar valores categóricos"
   ]
  },
  {
   "cell_type": "code",
   "execution_count": null,
   "metadata": {},
   "outputs": [],
   "source": [
    "df['Churn'].value_counts()"
   ]
  },
  {
   "cell_type": "markdown",
   "metadata": {},
   "source": [
    "Se eu quiser que esses valores sejam representados na forma de porcentagem, posso usar o parâmetro normalize"
   ]
  },
  {
   "cell_type": "code",
   "execution_count": null,
   "metadata": {},
   "outputs": [],
   "source": [
    "df['Churn'].value_counts(normalize=True)"
   ]
  },
  {
   "cell_type": "markdown",
   "metadata": {},
   "source": [
    "Podemos ordenar os valores de uma coluna usando o método sort_values()"
   ]
  },
  {
   "cell_type": "code",
   "execution_count": null,
   "metadata": {},
   "outputs": [],
   "source": [
    "df.sort_values(by='Total day charge', ascending=False).head()"
   ]
  },
  {
   "cell_type": "markdown",
   "metadata": {},
   "source": [
    "É possível, também, ordenar o dataset usando várias colunas"
   ]
  },
  {
   "cell_type": "code",
   "execution_count": null,
   "metadata": {},
   "outputs": [],
   "source": [
    "df.sort_values(by=['Churn', 'Total day charge'],ascending=True).head()"
   ]
  },
  {
   "cell_type": "markdown",
   "metadata": {},
   "source": [
    "Indexação é uma importante ferramenta que nos permite descobrir informações muito relevantes num dataset. Esse é o processo de indexação:"
   ]
  },
  {
   "cell_type": "code",
   "execution_count": null,
   "metadata": {},
   "outputs": [],
   "source": [
    "# proporção de clientes que rotacionaram\n",
    "df['Churn'].mean()"
   ]
  },
  {
   "cell_type": "markdown",
   "metadata": {},
   "source": [
    "Com isso em mente, podemos querer fazer uma comparação das características médias dos clientes que rotacionaram e daqueles que não rotacionaram. Vejamos:"
   ]
  },
  {
   "cell_type": "code",
   "execution_count": null,
   "metadata": {},
   "outputs": [],
   "source": [
    "#rotacionaram\n",
    "df[df['Churn'] == 1].mean()"
   ]
  },
  {
   "cell_type": "code",
   "execution_count": null,
   "metadata": {},
   "outputs": [],
   "source": [
    "# não rotacionaram\n",
    "df[df['Churn'] == 0].mean()"
   ]
  },
  {
   "cell_type": "markdown",
   "metadata": {},
   "source": [
    "Além disso, podemos responder outros questionamentos:"
   ]
  },
  {
   "cell_type": "code",
   "execution_count": null,
   "metadata": {},
   "outputs": [],
   "source": [
    "# Quanto tempo (em média) usuários que rotacionaram gastam no telefone durante o dia?\n",
    "df[df['Churn'] == 1]['Total day minutes'].mean()"
   ]
  },
  {
   "cell_type": "code",
   "execution_count": null,
   "metadata": {},
   "outputs": [],
   "source": [
    "# Qual a duração máxima das chamadas internacionais entre usuários fiéis (rotatividade == 0) que não possuem um plano internacional?\n",
    "df[(df['Churn'] == 0) & (df['International plan'] == 'No')]['Total intl minutes'].max()"
   ]
  },
  {
   "cell_type": "markdown",
   "metadata": {},
   "source": [
    "O método loc nos permite indexar o dataset a fim de trazer apenas informações de interesse. Observe:"
   ]
  },
  {
   "cell_type": "code",
   "execution_count": null,
   "metadata": {},
   "outputs": [],
   "source": [
    "# 5 primeiras linhas das colunas especificadas\n",
    "df.loc[0:5, 'State':'Area code']"
   ]
  },
  {
   "cell_type": "code",
   "execution_count": null,
   "metadata": {},
   "outputs": [],
   "source": [
    "# 5 primeiras linhas das 3 primeiras colunas\n",
    "df.iloc[0:5, 0:3]"
   ]
  },
  {
   "cell_type": "markdown",
   "metadata": {},
   "source": [
    "Podemos usar apply para aplicar funções numa coluna (vetorização):"
   ]
  },
  {
   "cell_type": "code",
   "execution_count": null,
   "metadata": {},
   "outputs": [],
   "source": [
    "df.apply(np.max)"
   ]
  },
  {
   "cell_type": "markdown",
   "metadata": {},
   "source": [
    "Podemos usar apply para, por exemplo, trazer informações de todos os estados que começam com a letra w:"
   ]
  },
  {
   "cell_type": "code",
   "execution_count": null,
   "metadata": {},
   "outputs": [],
   "source": [
    "df[df['State'].apply(lambda state: state[0] == 'W')].head()"
   ]
  },
  {
   "cell_type": "markdown",
   "metadata": {},
   "source": [
    "Podemos uar o map para substituir mais de um valor de uma vez por valores correspondentes numa determinada coluna. Vejamos:"
   ]
  },
  {
   "cell_type": "code",
   "execution_count": null,
   "metadata": {},
   "outputs": [],
   "source": [
    "d = {'No' : False, 'Yes' : True}\n",
    "df['International plan'] = df['International plan'].map(d)\n",
    "df.head()"
   ]
  },
  {
   "cell_type": "markdown",
   "metadata": {},
   "source": [
    "O mesmo pode ser feito utilizando o método replace():"
   ]
  },
  {
   "cell_type": "code",
   "execution_count": null,
   "metadata": {},
   "outputs": [],
   "source": [
    "df = df.replace({'Voice mail plan': d})\n",
    "df.head()"
   ]
  },
  {
   "cell_type": "markdown",
   "metadata": {},
   "source": [
    "O agrupamento de dados funciona de acordo com o seguinte esquema: \n",
    "\n",
    "df.groupby(by=grouping_columns)[columns_to_show].function()\n",
    "\n",
    "> primeiro, o método groupby divide as grouping_columns por seus valores. \n",
    "\n",
    "> depois, as colunas de interesse são selecionadas (columns_to_show). Se columns_to_show não for incluída, tudo o que não estiver no groupby será incluído\n",
    "\n",
    "> por fim, uma ou mais funções podem ser aplicadas aos grupos\n",
    "\n",
    "\n",
    "Observe um exemplo:"
   ]
  },
  {
   "cell_type": "code",
   "execution_count": null,
   "metadata": {},
   "outputs": [],
   "source": [
    "columns_to_show = ['Total day minutes', 'Total eve minutes', \n",
    "                   'Total night minutes']\n",
    "\n",
    "df.groupby(['Churn'])[columns_to_show].agg([np.mean, np.std, np.min, \n",
    "                                            np.max])"
   ]
  },
  {
   "cell_type": "markdown",
   "metadata": {},
   "source": [
    "# Visualização de Dados"
   ]
  },
  {
   "cell_type": "code",
   "execution_count": null,
   "metadata": {},
   "outputs": [],
   "source": [
    "df.head()"
   ]
  },
  {
   "cell_type": "code",
   "execution_count": null,
   "metadata": {},
   "outputs": [],
   "source": [
    "# Distribuição de clientes que rotacionaram\n",
    "churn = [0,0]\n",
    "churn[0] = len(df[df['Churn']==0])\n",
    "churn[1] = len(df[df['Churn']==1])\n",
    "plt.figure(figsize=(15,5))\n",
    "plt.bar(['False', 'True'],churn)"
   ]
  },
  {
   "cell_type": "code",
   "execution_count": null,
   "metadata": {},
   "outputs": [],
   "source": [
    "x = df[df['Churn'] == 0]\n",
    "x = x[x['International plan'] == False]\n",
    "\n",
    "y = df[df['Churn'] == 0]\n",
    "y = y[y['International plan'] == True]\n",
    "\n",
    "z = df[df['Churn'] == 1]\n",
    "z = z[z['International plan'] == False]\n",
    "\n",
    "w = df[df['Churn'] == 1]\n",
    "w = w[w['International plan'] == True]"
   ]
  },
  {
   "cell_type": "code",
   "execution_count": null,
   "metadata": {},
   "outputs": [],
   "source": [
    "# Rotatividade de acordo com Plano internacional\n",
    "N = 2\n",
    "plan0 = (len(x), len(y))\n",
    "plan1 = (len(z), len(w))\n",
    "ind = np.arange(2)    \n",
    "width = 0.35       # largura das barras\n",
    "\n",
    "p1 = plt.bar(ind, plan0, width)\n",
    "p2 = plt.bar(ind, plan1, width,bottom=plan0)\n",
    "\n",
    "plt.ylabel('Contagem')\n",
    "plt.title('Rotatividade de acordo com plano internacional')\n",
    "plt.xticks(ind, ('Não tem', 'tem'))\n",
    "plt.legend((p1[0], p2[0]), ('Não Rotativo', 'Rotativo'))\n",
    "\n",
    "plt.show()"
   ]
  },
  {
   "cell_type": "code",
   "execution_count": null,
   "metadata": {},
   "outputs": [],
   "source": []
  }
 ],
 "metadata": {
  "kernelspec": {
   "display_name": "Python 3",
   "language": "python",
   "name": "python3"
  },
  "language_info": {
   "codemirror_mode": {
    "name": "ipython",
    "version": 3
   },
   "file_extension": ".py",
   "mimetype": "text/x-python",
   "name": "python",
   "nbconvert_exporter": "python",
   "pygments_lexer": "ipython3",
   "version": "3.7.5"
  }
 },
 "nbformat": 4,
 "nbformat_minor": 4
}
